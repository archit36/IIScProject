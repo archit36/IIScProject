{
  "nbformat": 4,
  "nbformat_minor": 0,
  "metadata": {
    "colab": {
      "provenance": [],
      "include_colab_link": true
    },
    "kernelspec": {
      "name": "python3",
      "display_name": "Python 3"
    },
    "language_info": {
      "name": "python"
    }
  },
  "cells": [
    {
      "cell_type": "markdown",
      "metadata": {
        "id": "view-in-github",
        "colab_type": "text"
      },
      "source": [
        "<a href=\"https://colab.research.google.com/github/archit36/IIScProject/blob/main/CapstoneProject.ipynb\" target=\"_parent\"><img src=\"https://colab.research.google.com/assets/colab-badge.svg\" alt=\"Open In Colab\"/></a>"
      ]
    },
    {
      "cell_type": "markdown",
      "source": [
        "### Development and Optimization of Deep Q-Networks for Autonomous Lunar Lander Control"
      ],
      "metadata": {
        "id": "_ufMOJu-mT1n"
      }
    },
    {
      "cell_type": "markdown",
      "source": [
        "In our project, we delve into the fascinating realm of Deep Reinforcement Learning, which mimics human intelligence by learning from environmental interactions. We're specifically addressing the Lunar Lander v2 challenge from OpenAI Gym, utilizing various techniques like Deep Q-Learning variants and Policy Gradient methods to identify the most effective solutions.\n",
        "\n",
        "This project zeroes in on the design and optimization of a Deep Q-Network (DQN) aimed at autonomously controlling a lunar lander in a simulated setting. The core challenge lies in teaching the lander to safely reach its target by mastering the optimal strategies for thrust control, orientation, and landing speed"
      ],
      "metadata": {
        "id": "l5RuWQ4ymmyt"
      }
    },
    {
      "cell_type": "code",
      "source": [
        "# @title Update/Upgrade the system and install libs\n",
        "!apt-get update > /dev/null 2>&1\n",
        "!apt-get install -y xvfb python-opengl ffmpeg > /dev/null 2>&1\n",
        "!apt-get install -y swig build-essential python-dev python3-dev > /dev/null 2>&1\n",
        "!apt-get install x11-utils > /dev/null 2>&1\n",
        "!apt-get install xvfb > /dev/null 2>&1"
      ],
      "metadata": {
        "id": "tbgLr2wVlxfA"
      },
      "execution_count": 8,
      "outputs": []
    },
    {
      "cell_type": "code",
      "source": [
        "# @title Install dependencies\n",
        "!pip install rarfile --quiet\n",
        "!pip install 'stable-baselines3[extra]' --quiet\n",
        "!pip install ale-py --quiet\n",
        "!pip install swig\n",
        "!pip install gym --quiet\n",
        "!pip install pyvirtualdisplay --quiet\n",
        "!pip install pyglet --quiet\n",
        "!pip install pygame --quiet\n",
        "!pip install minigrid --quiet\n",
        "!pip install -q swig --quiet\n",
        "!pip install -q gymnasium --quiet\n",
        "!pip install 'minigrid<=2.1.1' --quiet\n",
        "!pip3 install box2d-py --quiet"
      ],
      "metadata": {
        "colab": {
          "base_uri": "https://localhost:8080/"
        },
        "id": "70w1DkAa5O0m",
        "outputId": "39ccddb9-f6be-4a3f-849b-be8c48304f22"
      },
      "execution_count": 2,
      "outputs": [
        {
          "output_type": "stream",
          "name": "stdout",
          "text": [
            "\u001b[?25l     \u001b[90m━━━━━━━━━━━━━━━━━━━━━━━━━━━━━━━━━━━━━━━━\u001b[0m \u001b[32m0.0/434.7 kB\u001b[0m \u001b[31m?\u001b[0m eta \u001b[36m-:--:--\u001b[0m\r\u001b[2K     \u001b[90m━━━━━━━━━━━━━━━━━━━━━━━━━━━━━━━━━━━━━━━━\u001b[0m \u001b[32m434.7/434.7 kB\u001b[0m \u001b[31m19.0 MB/s\u001b[0m eta \u001b[36m0:00:00\u001b[0m\n",
            "\u001b[?25h  Installing build dependencies ... \u001b[?25l\u001b[?25hdone\n",
            "  Getting requirements to build wheel ... \u001b[?25l\u001b[?25hdone\n",
            "  Preparing metadata (pyproject.toml) ... \u001b[?25l\u001b[?25hdone\n",
            "\u001b[2K   \u001b[90m━━━━━━━━━━━━━━━━━━━━━━━━━━━━━━━━━━━━━━━━\u001b[0m \u001b[32m953.9/953.9 kB\u001b[0m \u001b[31m51.4 MB/s\u001b[0m eta \u001b[36m0:00:00\u001b[0m\n",
            "\u001b[2K   \u001b[90m━━━━━━━━━━━━━━━━━━━━━━━━━━━━━━━━━━━━━━━━\u001b[0m \u001b[32m182.3/182.3 kB\u001b[0m \u001b[31m15.5 MB/s\u001b[0m eta \u001b[36m0:00:00\u001b[0m\n",
            "\u001b[2K   \u001b[90m━━━━━━━━━━━━━━━━━━━━━━━━━━━━━━━━━━━━━━━━\u001b[0m \u001b[32m1.7/1.7 MB\u001b[0m \u001b[31m68.8 MB/s\u001b[0m eta \u001b[36m0:00:00\u001b[0m\n",
            "\u001b[?25h  Building wheel for AutoROM.accept-rom-license (pyproject.toml) ... \u001b[?25l\u001b[?25hdone\n",
            "Collecting swig\n",
            "  Downloading swig-4.2.1-py2.py3-none-manylinux_2_5_x86_64.manylinux1_x86_64.whl.metadata (3.6 kB)\n",
            "Downloading swig-4.2.1-py2.py3-none-manylinux_2_5_x86_64.manylinux1_x86_64.whl (1.9 MB)\n",
            "\u001b[2K   \u001b[90m━━━━━━━━━━━━━━━━━━━━━━━━━━━━━━━━━━━━━━━━\u001b[0m \u001b[32m1.9/1.9 MB\u001b[0m \u001b[31m61.6 MB/s\u001b[0m eta \u001b[36m0:00:00\u001b[0m\n",
            "\u001b[?25hInstalling collected packages: swig\n",
            "Successfully installed swig-4.2.1\n",
            "\u001b[2K   \u001b[90m━━━━━━━━━━━━━━━━━━━━━━━━━━━━━━━━━━━━━━━━\u001b[0m \u001b[32m936.6/936.6 kB\u001b[0m \u001b[31m20.1 MB/s\u001b[0m eta \u001b[36m0:00:00\u001b[0m\n",
            "\u001b[2K   \u001b[90m━━━━━━━━━━━━━━━━━━━━━━━━━━━━━━━━━━━━━━━━\u001b[0m \u001b[32m103.8/103.8 kB\u001b[0m \u001b[31m7.8 MB/s\u001b[0m eta \u001b[36m0:00:00\u001b[0m\n",
            "\u001b[2K   \u001b[90m━━━━━━━━━━━━━━━━━━━━━━━━━━━━━━━━━━━━━━━━\u001b[0m \u001b[32m100.3/100.3 kB\u001b[0m \u001b[31m7.6 MB/s\u001b[0m eta \u001b[36m0:00:00\u001b[0m\n",
            "\u001b[2K     \u001b[90m━━━━━━━━━━━━━━━━━━━━━━━━━━━━━━━━━━━━━━━━\u001b[0m \u001b[32m374.5/374.5 kB\u001b[0m \u001b[31m18.2 MB/s\u001b[0m eta \u001b[36m0:00:00\u001b[0m\n",
            "\u001b[?25h  Preparing metadata (setup.py) ... \u001b[?25l\u001b[?25hdone\n",
            "  Building wheel for box2d-py (setup.py) ... \u001b[?25l\u001b[?25hdone\n"
          ]
        }
      ]
    },
    {
      "cell_type": "markdown",
      "source": [
        "**Importing necessary libraries**"
      ],
      "metadata": {
        "id": "B4KOQW4NnLCF"
      }
    },
    {
      "cell_type": "code",
      "execution_count": 3,
      "metadata": {
        "execution": {},
        "id": "Pud-zKaU4Yu7"
      },
      "outputs": [],
      "source": [
        "# Imports\n",
        "import io\n",
        "import os\n",
        "import glob\n",
        "import torch\n",
        "import base64\n",
        "\n",
        "import numpy as np\n",
        "import matplotlib.pyplot as plt\n",
        "\n",
        "import sys\n",
        "import gymnasium\n",
        "sys.modules[\"gym\"] = gymnasium\n",
        "\n",
        "import stable_baselines3\n",
        "from stable_baselines3 import DQN\n",
        "from stable_baselines3.common.results_plotter import ts2xy, load_results\n",
        "from stable_baselines3.common.callbacks import EvalCallback\n",
        "from stable_baselines3.common.env_util import make_atari_env\n",
        "\n",
        "import gymnasium as gym\n",
        "from gym import spaces\n",
        "from gym.envs.box2d.lunar_lander import *\n",
        "from gym.wrappers.monitoring.video_recorder import VideoRecorder"
      ]
    },
    {
      "cell_type": "code",
      "source": [
        "nn_layers = [64, 64]  # This is the configuration of your neural network. Currently, we have two layers, each consisting of 64 neurons.\n",
        "                      # If you want three layers with 64 neurons each, set the value to [64,64,64] and so on.\n",
        "\n",
        "learning_rate = 0.001  # This is the step-size with which the gradient descent"
      ],
      "metadata": {
        "id": "ch5wNOJs6LS9",
        "colab": {
          "base_uri": "https://localhost:8080/"
        },
        "outputId": "ee8423d0-aca7-40c4-b285-c0b22a5d6055"
      },
      "execution_count": 4,
      "outputs": [
        {
          "output_type": "stream",
          "name": "stderr",
          "text": [
            "/usr/local/lib/python3.10/dist-packages/ipykernel/ipkernel.py:283: DeprecationWarning: `should_run_async` will not call `transform_cell` automatically in the future. Please pass the result to `transformed_cell` argument and any exception that happen during thetransform in `preprocessing_exc_tuple` in IPython 7.17 and above.\n",
            "  and should_run_async(code)\n"
          ]
        }
      ]
    },
    {
      "cell_type": "code",
      "source": [
        "log_dir = \"/tmp/gym/\"\n",
        "os.makedirs(log_dir, exist_ok=True)\n",
        "\n",
        "# Create environment\n",
        "env_name = 'LunarLander-v2'\n",
        "env = gym.make(env_name)\n",
        "# You can also load other environments like cartpole, MountainCar, Acrobot.\n",
        "# Refer to https://gym.openai.com/docs/ for descriptions.\n",
        "\n",
        "# For example, if you would like to load Cartpole,\n",
        "# just replace the above statement with \"env = gym.make('CartPole-v1')\".\n",
        "\n",
        "env = stable_baselines3.common.monitor.Monitor(env, log_dir )\n",
        "\n",
        "callback = EvalCallback(env, log_path=log_dir, deterministic=True)  # For evaluating the performance of the agent periodically and logging the results.\n",
        "policy_kwargs = dict(activation_fn=torch.nn.ReLU,\n",
        "                     net_arch=nn_layers)\n",
        "model = DQN(\"MlpPolicy\", env,policy_kwargs = policy_kwargs,\n",
        "            learning_rate=learning_rate,\n",
        "            batch_size=1,  # for simplicity, we are not doing batch update.\n",
        "            buffer_size=1,  # size of experience of replay buffer. Set to 1 as batch update is not done\n",
        "            learning_starts=1,  # learning starts immediately!\n",
        "            gamma=0.99,  # discount facto. range is between 0 and 1.\n",
        "            tau = 1,  # the soft update coefficient for updating the target network\n",
        "            target_update_interval=1,  # update the target network immediately.\n",
        "            train_freq=(1,\"step\"),  # train the network at every step.\n",
        "            max_grad_norm = 10,  # the maximum value for the gradient clipping\n",
        "            exploration_initial_eps = 1,  # initial value of random action probability\n",
        "            exploration_fraction = 0.5,  # fraction of entire training period over which the exploration rate is reduced\n",
        "            gradient_steps = 1,  # number of gradient steps\n",
        "            seed = 1,  # seed for the pseudo random generators\n",
        "            verbose=0)  # Set verbose to 1 to observe training logs. We encourage you to set the verbose to 1.\n",
        "\n",
        "# You can also experiment with other RL algorithms like A2C, PPO, DDPG etc.\n",
        "# Refer to  https://stable-baselines3.readthedocs.io/en/master/guide/examples.html\n",
        "# for documentation. For example, if you would like to run DDPG, just replace \"DQN\" above with \"DDPG\"."
      ],
      "metadata": {
        "id": "1crEDbib6P20"
      },
      "execution_count": 9,
      "outputs": []
    },
    {
      "cell_type": "markdown",
      "source": [
        "The input state of the Lunar Lander consists of following components:\n",
        "\n",
        "1.   Horizontal Position\n",
        "2.   Vertical Position\n",
        "3.   Angle\n",
        "4.   Vertical Velocity\n",
        "5.   Angular Velocity\n",
        "6.   Left Leg Contact\n",
        "7.   Right Leg Contact\n",
        "8.   List item\n",
        "\n",
        "The actions of the agents are:\n",
        "\n",
        "1.   Do Nothing\n",
        "2.   Fire Main Engine\n",
        "3.   Fire Left Engine\n",
        "4.   Fire Right Engine"
      ],
      "metadata": {
        "id": "dUh1wkaH6ciI"
      }
    },
    {
      "cell_type": "code",
      "source": [
        "env_name = 'LunarLander-v2'\n",
        "env = gym.make(env_name)\n",
        "print('State shape: ', env.observation_space.shape)\n",
        "print('Number of actions: ', env.action_space.n)"
      ],
      "metadata": {
        "colab": {
          "base_uri": "https://localhost:8080/"
        },
        "id": "bJtLlizYjtlh",
        "outputId": "caf05bd9-9fe6-4931-9cd5-3d7046db7e20"
      },
      "execution_count": 6,
      "outputs": [
        {
          "output_type": "stream",
          "name": "stdout",
          "text": [
            "State shape:  (8,)\n",
            "Number of actions:  4\n"
          ]
        },
        {
          "output_type": "stream",
          "name": "stderr",
          "text": [
            "/usr/local/lib/python3.10/dist-packages/ipykernel/ipkernel.py:283: DeprecationWarning: `should_run_async` will not call `transform_cell` automatically in the future. Please pass the result to `transformed_cell` argument and any exception that happen during thetransform in `preprocessing_exc_tuple` in IPython 7.17 and above.\n",
            "  and should_run_async(code)\n"
          ]
        }
      ]
    },
    {
      "cell_type": "code",
      "execution_count": 12,
      "metadata": {
        "id": "QX5m8MJbjt8J",
        "colab": {
          "base_uri": "https://localhost:8080/",
          "height": 633
        },
        "outputId": "1ece4462-7531-4f41-8873-2dc77ad472bd"
      },
      "outputs": [
        {
          "output_type": "stream",
          "name": "stderr",
          "text": [
            "/usr/local/lib/python3.10/dist-packages/gym/wrappers/monitoring/video_recorder.py:101: DeprecationWarning: \u001b[33mWARN: <class 'gym.wrappers.monitoring.video_recorder.VideoRecorder'> is marked as deprecated and will be removed in the future.\u001b[0m\n",
            "  logger.deprecation(\n",
            "/usr/lib/python3.10/subprocess.py:1796: RuntimeWarning: os.fork() was called. os.fork() is incompatible with multithreaded code, and JAX is multithreaded, so this will likely lead to a deadlock.\n",
            "  self.pid = _posixsubprocess.fork_exec(\n"
          ]
        },
        {
          "output_type": "stream",
          "name": "stdout",
          "text": [
            "\n",
            "Total reward: -505.15968238556053\n"
          ]
        },
        {
          "output_type": "execute_result",
          "data": {
            "text/plain": [
              "<IPython.core.display.HTML object>"
            ],
            "text/html": [
              "<video width=\"640\" height=\"480\" controls><source src=\"data:video/mp4;base64,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\" type=\"video/mp4\"></video>"
            ]
          },
          "metadata": {},
          "execution_count": 12
        }
      ],
      "source": [
        "env = gym.make(env_name, render_mode=\"rgb_array\")\n",
        "\n",
        "# Ensure the 'video' directory exists\n",
        "os.makedirs(\"video\", exist_ok=True)\n",
        "vid = VideoRecorder(env, path=f\"video/{env_name}_pretraining.mp4\")\n",
        "\n",
        "observation = env.reset()[0]\n",
        "total_reward = 0\n",
        "done = False\n",
        "while not done:\n",
        "  frame = env.render()\n",
        "  vid.capture_frame()\n",
        "  action, states = model.predict(observation, deterministic=True)\n",
        "  observation, reward, done, info, _ = env.step(action)\n",
        "  total_reward += reward\n",
        "vid.close()\n",
        "env.close()\n",
        "print(f\"\\nTotal reward: {total_reward}\")\n",
        "\n",
        "from IPython.display import HTML\n",
        "from base64 import b64encode\n",
        "\n",
        "def render_mp4(path):\n",
        "    \"\"\"Render an MP4 file as HTML video.\"\"\"\n",
        "    video = open(path, \"rb\").read()\n",
        "    encoded = b64encode(video).decode('ascii')\n",
        "    return f'<video width=\"640\" height=\"480\" controls><source src=\"data:video/mp4;base64,{encoded}\" type=\"video/mp4\"></video>'\n",
        "\n",
        "# Then you can use it as follows:\n",
        "html = render_mp4(f\"video/{env_name}_pretraining.mp4\")\n",
        "HTML(html)\n",
        "\n",
        "\n",
        "# show video\n",
        "html = render_mp4(f\"video/{env_name}_pretraining.mp4\")\n",
        "HTML(html)"
      ]
    }
  ]
}